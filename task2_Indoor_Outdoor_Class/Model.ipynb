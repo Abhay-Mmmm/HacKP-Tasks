{
 "cells": [
  {
   "cell_type": "markdown",
   "id": "34653ddc-07aa-4f61-87a2-ad6af77db75e",
   "metadata": {},
   "source": [
    "**Importing required packages**"
   ]
  },
  {
   "cell_type": "code",
   "execution_count": 34,
   "id": "9f4934f3-676b-4b59-927a-58f932096a5b",
   "metadata": {},
   "outputs": [],
   "source": [
    "import torch\n",
    "import torchvision\n",
    "import numpy as np\n",
    "from PIL import Image\n",
    "import requests\n",
    "from torchvision import models\n",
    "from torchvision import transforms"
   ]
  },
  {
   "cell_type": "markdown",
   "id": "a5b6c0ee-2e02-4d64-ad67-23a865b90695",
   "metadata": {},
   "source": [
    "**Importing the IO mapping from a text file from Places365**"
   ]
  },
  {
   "cell_type": "code",
   "execution_count": 35,
   "id": "5f6d93c0-f148-4982-8869-34b8bd3177ab",
   "metadata": {},
   "outputs": [],
   "source": [
    "io_mapping = []\n",
    "with open('IO_places365.txt') as f:\n",
    "    for line in f:\n",
    "        parts = line.strip().split()\n",
    "        io_mapping.append(int(parts[1]))\n",
    "io_mapping = np.array(io_mapping)\n",
    "io_mapping_binary = (io_mapping == 2).astype(int)"
   ]
  },
  {
   "cell_type": "markdown",
   "id": "d0bbfc58-6022-4ce5-aa38-51aeff7a931e",
   "metadata": {},
   "source": [
    "*IO mapping shows the categories like Indoor or Outdoor*"
   ]
  },
  {
   "cell_type": "markdown",
   "id": "6f88bf77-c641-4328-89b9-99b126459d53",
   "metadata": {},
   "source": [
    "**Importing a pretrained model called Alexnet (Places365)** "
   ]
  },
  {
   "cell_type": "code",
   "execution_count": 36,
   "id": "90294973-b03a-4ccd-a925-b6df4f158f0b",
   "metadata": {
    "scrolled": true
   },
   "outputs": [
    {
     "data": {
      "text/plain": [
       "AlexNet(\n",
       "  (features): Sequential(\n",
       "    (0): Conv2d(3, 64, kernel_size=(11, 11), stride=(4, 4), padding=(2, 2))\n",
       "    (1): ReLU(inplace=True)\n",
       "    (2): MaxPool2d(kernel_size=3, stride=2, padding=0, dilation=1, ceil_mode=False)\n",
       "    (3): Conv2d(64, 192, kernel_size=(5, 5), stride=(1, 1), padding=(2, 2))\n",
       "    (4): ReLU(inplace=True)\n",
       "    (5): MaxPool2d(kernel_size=3, stride=2, padding=0, dilation=1, ceil_mode=False)\n",
       "    (6): Conv2d(192, 384, kernel_size=(3, 3), stride=(1, 1), padding=(1, 1))\n",
       "    (7): ReLU(inplace=True)\n",
       "    (8): Conv2d(384, 256, kernel_size=(3, 3), stride=(1, 1), padding=(1, 1))\n",
       "    (9): ReLU(inplace=True)\n",
       "    (10): Conv2d(256, 256, kernel_size=(3, 3), stride=(1, 1), padding=(1, 1))\n",
       "    (11): ReLU(inplace=True)\n",
       "    (12): MaxPool2d(kernel_size=3, stride=2, padding=0, dilation=1, ceil_mode=False)\n",
       "  )\n",
       "  (avgpool): AdaptiveAvgPool2d(output_size=(6, 6))\n",
       "  (classifier): Sequential(\n",
       "    (0): Dropout(p=0.5, inplace=False)\n",
       "    (1): Linear(in_features=9216, out_features=4096, bias=True)\n",
       "    (2): ReLU(inplace=True)\n",
       "    (3): Dropout(p=0.5, inplace=False)\n",
       "    (4): Linear(in_features=4096, out_features=4096, bias=True)\n",
       "    (5): ReLU(inplace=True)\n",
       "    (6): Linear(in_features=4096, out_features=365, bias=True)\n",
       "  )\n",
       ")"
      ]
     },
     "execution_count": 36,
     "metadata": {},
     "output_type": "execute_result"
    }
   ],
   "source": [
    "model = models.alexnet(num_classes=365)\n",
    "checkpoint = torch.hub.load_state_dict_from_url(\n",
    "    'http://places2.csail.mit.edu/models_places365/alexnet_places365.pth.tar',\n",
    "    map_location=torch.device('cpu')\n",
    ")\n",
    "state_dict = {k.replace('module.',''): v for k,v in checkpoint['state_dict'].items()}\n",
    "model.load_state_dict(state_dict)\n",
    "model.eval()"
   ]
  },
  {
   "cell_type": "code",
   "execution_count": 37,
   "id": "374b4e83-7dd5-4f22-a71e-8d65bb58cb81",
   "metadata": {},
   "outputs": [],
   "source": [
    "preprocess = transforms.Compose([\n",
    "    transforms.Resize((256,256)), #Make all images 256×256 pixels\n",
    "    transforms.CenterCrop(224), #Take central 224×224 crop for AlexNet input\n",
    "    transforms.ToTensor(), #Convert image to PyTorch tensor and scale pixels 0 -> 1\n",
    "    transforms.Normalize(mean=[0.485,0.456,0.406],\n",
    "                         std=[0.229,0.224,0.225]) \n",
    "]) #Standardize channels to match pretrained model's expected distribution"
   ]
  },
  {
   "cell_type": "markdown",
   "id": "33483c18-9032-4be9-a035-753db06c3c41",
   "metadata": {},
   "source": [
    "**Bonus : Extending the model to find out different Categories**"
   ]
  },
  {
   "cell_type": "code",
   "execution_count": 38,
   "id": "9fe01be7-e6a5-4072-9ef0-cade5124a78c",
   "metadata": {},
   "outputs": [],
   "source": [
    "categories = []\n",
    "with open('categories_places365.txt') as f:\n",
    "    for line in f:\n",
    "        # remove index at start of line\n",
    "        categories.append(line.strip().split(' ')[0][3:])"
   ]
  },
  {
   "cell_type": "markdown",
   "id": "8f17e814-7c9b-44f4-a583-c025a3a7c21b",
   "metadata": {},
   "source": [
    "**Defining the funtion that classifies each picture**"
   ]
  },
  {
   "cell_type": "code",
   "execution_count": 39,
   "id": "0310a512-517c-41a7-b5de-cf8227164ddf",
   "metadata": {},
   "outputs": [],
   "source": [
    "def classify_scene_single(img_path):\n",
    "    img = Image.open(img_path).convert('RGB')\n",
    "    input_tensor = preprocess(img).unsqueeze(0)\n",
    "\n",
    "    with torch.no_grad():\n",
    "        logit = model(input_tensor)\n",
    "        probs = torch.nn.functional.softmax(logit, dim=1).cpu().numpy()[0]\n",
    "\n",
    "    # Most probable category\n",
    "    top_idx = probs.argmax()\n",
    "    top_scene = categories[top_idx]\n",
    "    confidence = probs[top_idx] * 100 \n",
    "\n",
    "    # Indoor/Outdoor\n",
    "    indoor_prob = np.sum(probs[io_mapping_binary == 0])\n",
    "    outdoor_prob = np.sum(probs[io_mapping_binary == 1])\n",
    "    io_label = \"Indoor\" if indoor_prob > outdoor_prob else \"Outdoor\"\n",
    "\n",
    "    return top_scene, confidence, io_label"
   ]
  },
  {
   "cell_type": "markdown",
   "id": "143cbabe-cfe7-4a40-b962-172a0c59e598",
   "metadata": {},
   "source": [
    "**Calling the function**"
   ]
  },
  {
   "cell_type": "code",
   "execution_count": 40,
   "id": "2298afd1-5dd6-40b3-9eea-4fd808fd9a1c",
   "metadata": {},
   "outputs": [
    {
     "name": "stdout",
     "output_type": "stream",
     "text": [
      "Prediction: volcano\n",
      "Confidence: 38.59%\n",
      "Indoor/Outdoor: Outdoor\n"
     ]
    }
   ],
   "source": [
    "img_path = 'trial/outdoor_1.jpg'\n",
    "scene, confidence, io_label = classify_scene_single(img_path)\n",
    "\n",
    "print(f\"Prediction: {scene}\")\n",
    "print(f\"Confidence: {confidence:.2f}%\")\n",
    "print(f\"Indoor/Outdoor: {io_label}\")"
   ]
  },
  {
   "cell_type": "markdown",
   "id": "8a45de4b-a136-4f57-806f-dc28c4a8af93",
   "metadata": {},
   "source": [
    "*Please add **img_path** as the one you choose*"
   ]
  },
  {
   "cell_type": "markdown",
   "id": "b50af163-cc68-4751-9292-d09f63b4a3fd",
   "metadata": {},
   "source": [
    "I have indoor_1.jpg, indoor_2.jpg, outdoor_1.jpg and outdoor_2.jpg as trial inputs."
   ]
  }
 ],
 "metadata": {
  "kernelspec": {
   "display_name": "Python 3 (ipykernel)",
   "language": "python",
   "name": "python3"
  },
  "language_info": {
   "codemirror_mode": {
    "name": "ipython",
    "version": 3
   },
   "file_extension": ".py",
   "mimetype": "text/x-python",
   "name": "python",
   "nbconvert_exporter": "python",
   "pygments_lexer": "ipython3",
   "version": "3.10.10"
  }
 },
 "nbformat": 4,
 "nbformat_minor": 5
}
