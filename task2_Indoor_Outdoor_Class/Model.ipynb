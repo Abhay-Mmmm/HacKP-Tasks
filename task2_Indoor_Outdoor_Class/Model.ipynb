{
 "cells": [
  {
   "cell_type": "code",
   "execution_count": 1,
   "id": "9f4934f3-676b-4b59-927a-58f932096a5b",
   "metadata": {},
   "outputs": [],
   "source": [
    "import torch\n",
    "import torchvision\n",
    "import numpy as np\n",
    "from PIL import Image\n",
    "import requests\n",
    "import matplotlib.pyplot as plt\n",
    "from torchvision import models\n",
    "from torchvision import transforms"
   ]
  },
  {
   "cell_type": "code",
   "execution_count": 2,
   "id": "5f6d93c0-f148-4982-8869-34b8bd3177ab",
   "metadata": {},
   "outputs": [],
   "source": [
    "io_mapping = []\n",
    "with open('IO_places365.txt') as f:\n",
    "    for line in f:\n",
    "        parts = line.strip().split()\n",
    "        io_mapping.append(int(parts[1]))\n",
    "io_mapping = np.array(io_mapping)"
   ]
  },
  {
   "cell_type": "code",
   "execution_count": 3,
   "id": "90294973-b03a-4ccd-a925-b6df4f158f0b",
   "metadata": {
    "scrolled": true
   },
   "outputs": [
    {
     "data": {
      "text/plain": [
       "AlexNet(\n",
       "  (features): Sequential(\n",
       "    (0): Conv2d(3, 64, kernel_size=(11, 11), stride=(4, 4), padding=(2, 2))\n",
       "    (1): ReLU(inplace=True)\n",
       "    (2): MaxPool2d(kernel_size=3, stride=2, padding=0, dilation=1, ceil_mode=False)\n",
       "    (3): Conv2d(64, 192, kernel_size=(5, 5), stride=(1, 1), padding=(2, 2))\n",
       "    (4): ReLU(inplace=True)\n",
       "    (5): MaxPool2d(kernel_size=3, stride=2, padding=0, dilation=1, ceil_mode=False)\n",
       "    (6): Conv2d(192, 384, kernel_size=(3, 3), stride=(1, 1), padding=(1, 1))\n",
       "    (7): ReLU(inplace=True)\n",
       "    (8): Conv2d(384, 256, kernel_size=(3, 3), stride=(1, 1), padding=(1, 1))\n",
       "    (9): ReLU(inplace=True)\n",
       "    (10): Conv2d(256, 256, kernel_size=(3, 3), stride=(1, 1), padding=(1, 1))\n",
       "    (11): ReLU(inplace=True)\n",
       "    (12): MaxPool2d(kernel_size=3, stride=2, padding=0, dilation=1, ceil_mode=False)\n",
       "  )\n",
       "  (avgpool): AdaptiveAvgPool2d(output_size=(6, 6))\n",
       "  (classifier): Sequential(\n",
       "    (0): Dropout(p=0.5, inplace=False)\n",
       "    (1): Linear(in_features=9216, out_features=4096, bias=True)\n",
       "    (2): ReLU(inplace=True)\n",
       "    (3): Dropout(p=0.5, inplace=False)\n",
       "    (4): Linear(in_features=4096, out_features=4096, bias=True)\n",
       "    (5): ReLU(inplace=True)\n",
       "    (6): Linear(in_features=4096, out_features=365, bias=True)\n",
       "  )\n",
       ")"
      ]
     },
     "execution_count": 3,
     "metadata": {},
     "output_type": "execute_result"
    }
   ],
   "source": [
    "model = models.alexnet(num_classes=365)\n",
    "checkpoint = torch.hub.load_state_dict_from_url(\n",
    "    'http://places2.csail.mit.edu/models_places365/alexnet_places365.pth.tar',\n",
    "    map_location=torch.device('cpu')\n",
    ")\n",
    "state_dict = {k.replace('module.',''): v for k,v in checkpoint['state_dict'].items()}\n",
    "model.load_state_dict(state_dict)\n",
    "model.eval()"
   ]
  },
  {
   "cell_type": "code",
   "execution_count": 4,
   "id": "374b4e83-7dd5-4f22-a71e-8d65bb58cb81",
   "metadata": {},
   "outputs": [],
   "source": [
    "preprocess = transforms.Compose([\n",
    "    transforms.Resize((256,256)),\n",
    "    transforms.CenterCrop(224),\n",
    "    transforms.ToTensor(),\n",
    "    transforms.Normalize(mean=[0.485,0.456,0.406],\n",
    "                         std=[0.229,0.224,0.225])\n",
    "])"
   ]
  },
  {
   "cell_type": "code",
   "execution_count": 5,
   "id": "6f9f59c2-bf1b-4cca-84bf-951dab4ae577",
   "metadata": {},
   "outputs": [],
   "source": [
    "def classify_indoor_outdoor(img_path):\n",
    "    img = Image.open(img_path).convert('RGB')\n",
    "    input_tensor = preprocess(img).unsqueeze(0)\n",
    "\n",
    "    with torch.no_grad():\n",
    "        logit = model(input_tensor)\n",
    "        probs = torch.nn.functional.softmax(logit, dim=1).cpu().numpy()[0]\n",
    "\n",
    "    io_mapping_binary = (io_mapping == 2).astype(int)  # 0=Indoor, 1=Outdoor\n",
    "    indoor_prob = np.sum(probs[io_mapping_binary == 0])\n",
    "    outdoor_prob = np.sum(probs[io_mapping_binary == 1])\n",
    "\n",
    "    return \"Indoor\" if indoor_prob > outdoor_prob else \"Outdoor\""
   ]
  },
  {
   "cell_type": "code",
   "execution_count": 6,
   "id": "e071d583-5d18-4094-a9f0-2ca475c4b6c7",
   "metadata": {},
   "outputs": [
    {
     "name": "stdout",
     "output_type": "stream",
     "text": [
      "Prediction: Indoor\n"
     ]
    }
   ],
   "source": [
    "img_path = 'trial/indoor_2.jpg'  # replace with image_path\n",
    "result = classify_indoor_outdoor(img_path)\n",
    "print(\"Prediction:\", result)"
   ]
  },
  {
   "cell_type": "code",
   "execution_count": 7,
   "id": "51e95097-ef51-45cf-b3aa-930af2cbad49",
   "metadata": {},
   "outputs": [
    {
     "name": "stdout",
     "output_type": "stream",
     "text": [
      "Prediction: Outdoor\n"
     ]
    }
   ],
   "source": [
    "img_path = 'trial/outdoor_2.jpg'\n",
    "result = classify_indoor_outdoor(img_path)\n",
    "print(\"Prediction:\", result)"
   ]
  }
 ],
 "metadata": {
  "kernelspec": {
   "display_name": "Python 3",
   "language": "python",
   "name": "python3"
  },
  "language_info": {
   "codemirror_mode": {
    "name": "ipython",
    "version": 3
   },
   "file_extension": ".py",
   "mimetype": "text/x-python",
   "name": "python",
   "nbconvert_exporter": "python",
   "pygments_lexer": "ipython3",
   "version": "3.10.10"
  }
 },
 "nbformat": 4,
 "nbformat_minor": 5
}
