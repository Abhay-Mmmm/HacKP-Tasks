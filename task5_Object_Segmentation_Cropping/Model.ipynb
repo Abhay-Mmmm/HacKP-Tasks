{
 "cells": [
  {
   "cell_type": "markdown",
   "id": "2237292a-700d-47a2-b038-ae10ae691830",
   "metadata": {},
   "source": [
    "**Importing packages**"
   ]
  },
  {
   "cell_type": "code",
   "execution_count": 17,
   "id": "73de2b32-f4af-41f0-ac4e-9ab02428c079",
   "metadata": {},
   "outputs": [],
   "source": [
    "import cv2\n",
    "import mediapipe as mp\n",
    "import os"
   ]
  },
  {
   "cell_type": "markdown",
   "id": "4ffb6b01-168e-4db4-becd-2a21b306f577",
   "metadata": {},
   "source": [
    "**Parameters**"
   ]
  },
  {
   "cell_type": "code",
   "execution_count": 18,
   "id": "6954edc9-9696-4c05-a6b3-9a0a0e34cdfd",
   "metadata": {},
   "outputs": [],
   "source": [
    "input_folder = \"images\" \n",
    "output_folder = \"processed\" \n",
    "blur_strength = 101          "
   ]
  },
  {
   "cell_type": "markdown",
   "id": "7b4be8b5-d500-41c1-aa7b-7021998ce42c",
   "metadata": {},
   "source": [
    "*Initialize **Mediapipe** from OpenAI for face detection*"
   ]
  },
  {
   "cell_type": "code",
   "execution_count": 19,
   "id": "afe03f80-fc67-4ab1-bc39-a7556566c83c",
   "metadata": {},
   "outputs": [],
   "source": [
    "mp_face = mp.solutions.face_detection"
   ]
  },
  {
   "cell_type": "markdown",
   "id": "97d01597-c1ba-42c6-81c2-7b527ec21cf3",
   "metadata": {},
   "source": [
    "**Main Function**\n",
    "\n",
    "*This script loops through all images in the input folder, reads each image, and uses MediaPipe Face Detection to find faces. For every detected face, it calculates the bounding box, ensures it stays within image boundaries, extracts the face region, and applies Gaussian blur only to that area. The blurred face is then placed back into the image, and the processed result is saved with the same filename in the output folder, leaving the original untouched.*"
   ]
  },
  {
   "cell_type": "code",
   "execution_count": 21,
   "id": "4d350776-9da4-4ff2-892d-92646d300711",
   "metadata": {},
   "outputs": [
    {
     "name": "stdout",
     "output_type": "stream",
     "text": [
      "Processed : process\\1.jpg\n",
      "Processed : process\\2.jpg\n",
      "Processed : process\\3.jpg\n",
      "Processed : process\\4.jpg\n",
      "Processed : process\\5.jpg\n",
      "Processed : process\\6.jpg\n",
      "Processed : process\\7.jpg\n",
      "Processed : process\\8.jpg\n"
     ]
    }
   ],
   "source": [
    "with mp_face.FaceDetection(model_selection=1, min_detection_confidence=0.5) as face_detection:\n",
    "    # Loop all images in images folder\n",
    "    for filename in os.listdir(input_folder):\n",
    "        if filename.lower().endswith((\".jpg\", \".jpeg\", \".png\")):\n",
    "            image_path = os.path.join(input_folder, filename)\n",
    "            image = cv2.imread(image_path)\n",
    "\n",
    "            if image is None:\n",
    "                print(f\"Can't read {filename}! Skipping!\")\n",
    "                continue\n",
    "\n",
    "            processed = image.copy()\n",
    "            results = face_detection.process(cv2.cvtColor(image, cv2.COLOR_BGR2RGB))\n",
    "\n",
    "            if results.detections:\n",
    "                for detection in results.detections:\n",
    "                    bboxC = detection.location_data.relative_bounding_box\n",
    "                    ih, iw, _ = image.shape\n",
    "                    x, y, w, h = int(bboxC.xmin * iw), int(bboxC.ymin * ih), int(bboxC.width * iw), int(bboxC.height * ih)\n",
    "\n",
    "                    # The ROI is inside the image!\n",
    "                    x, y = max(0, x), max(0, y)\n",
    "                    w, h = min(iw - x, w), min(ih - y, h)\n",
    "\n",
    "                    # Blurring the ROI\n",
    "                    roi = processed[y:y+h, x:x+w]\n",
    "                    roi_blur = cv2.GaussianBlur(roi, (blur_strength, blur_strength), 30)\n",
    "                    processed[y:y+h, x:x+w] = roi_blur\n",
    "\n",
    "            # Save image to process folder\n",
    "            output_path = os.path.join(output_folder, filename)\n",
    "            cv2.imwrite(output_path, processed)\n",
    "            print(f\"Processed : {output_path}\")"
   ]
  }
 ],
 "metadata": {
  "kernelspec": {
   "display_name": "Python 3 (ipykernel)",
   "language": "python",
   "name": "python3"
  },
  "language_info": {
   "codemirror_mode": {
    "name": "ipython",
    "version": 3
   },
   "file_extension": ".py",
   "mimetype": "text/x-python",
   "name": "python",
   "nbconvert_exporter": "python",
   "pygments_lexer": "ipython3",
   "version": "3.10.10"
  }
 },
 "nbformat": 4,
 "nbformat_minor": 5
}
